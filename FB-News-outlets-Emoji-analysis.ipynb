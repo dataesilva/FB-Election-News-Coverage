{
 "cells": [
  {
   "cell_type": "code",
   "execution_count": 38,
   "id": "wired-tackle",
   "metadata": {},
   "outputs": [],
   "source": [
    "import pandas as pd\n",
    "from collections import defaultdict\n",
    "import re\n",
    "import numpy as np"
   ]
  },
  {
   "cell_type": "code",
   "execution_count": 2,
   "id": "close-crowd",
   "metadata": {},
   "outputs": [
    {
     "name": "stderr",
     "output_type": "stream",
     "text": [
      "D:\\Anaconda\\envs\\teach\\lib\\site-packages\\IPython\\core\\interactiveshell.py:3165: DtypeWarning: Columns (37,38,39) have mixed types.Specify dtype option on import or set low_memory=False.\n",
      "  has_raised = await self.run_ast_nodes(code_ast.body, cell_name,\n"
     ]
    },
    {
     "data": {
      "text/plain": [
       "0    Instagram has helped shine a spotlight on old ...\n",
       "1    New Zealand unveiled a blueprint Sunday to pha...\n",
       "2    Media Matters' Bobby Lewis talks insurrection,...\n",
       "3    Republicans propose 'bipartisan' gutting of pl...\n",
       "4    Congressional Democrats have a plan to get Cov...\n",
       "5    When ICU nurses finish their shift at a Nevada...\n",
       "6    The two teenagers were inspired to launch thei...\n",
       "7    From doubling the sauce to salting at every st...\n",
       "8    Now that China Joe has taken power, magically,...\n",
       "9    Border wall construction was reportedly halted...\n",
       "Name: Message, dtype: object"
      ]
     },
     "execution_count": 2,
     "metadata": {},
     "output_type": "execute_result"
    }
   ],
   "source": [
    "fb_dat = pd.read_csv(r\"H:\\Dropbox\\FB Scrape\\2020 Election Data\\2020 Election data - COMPLETE 1.csv\", encoding = 'utf-8')\n",
    "fb_dat['Message'][0:10]"
   ]
  },
  {
   "cell_type": "code",
   "execution_count": 3,
   "id": "adverse-latin",
   "metadata": {},
   "outputs": [
    {
     "data": {
      "text/plain": [
       "70390"
      ]
     },
     "execution_count": 3,
     "metadata": {},
     "output_type": "execute_result"
    }
   ],
   "source": [
    "len(fb_dat.index)"
   ]
  },
  {
   "cell_type": "code",
   "execution_count": 4,
   "id": "spare-fraction",
   "metadata": {},
   "outputs": [
    {
     "data": {
      "text/plain": [
       "Index(['Page Name', 'User Name', 'Facebook Id', 'Page Category',\n",
       "       'Page Admin Top Country', 'Page Description', 'Page Created',\n",
       "       'Likes at Posting', 'Followers at Posting', 'Post Created',\n",
       "       'Post Created Date', 'Post Created Time', 'Type', 'Total Interactions',\n",
       "       'Likes', 'Comments', 'Shares', 'Love', 'Wow', 'Haha', 'Sad', 'Angry',\n",
       "       'Care', 'Video Share Status', 'Is Video Owner?', 'Post Views',\n",
       "       'Total Views', 'Total Views For All Crossposts', 'Video Length', 'URL',\n",
       "       'Message', 'Link', 'Final Link', 'Image Text', 'Link Text',\n",
       "       'Description', 'Sponsor Id', 'Sponsor Name', 'Sponsor Category',\n",
       "       'Overperforming Score (weighted  —  Likes 1x Shares 1x Comments 1x Love 1x Wow 1x Haha 1x Sad 1x Angry 1x Care 1x )'],\n",
       "      dtype='object')"
      ]
     },
     "execution_count": 4,
     "metadata": {},
     "output_type": "execute_result"
    }
   ],
   "source": [
    "fb_dat.keys()"
   ]
  },
  {
   "cell_type": "code",
   "execution_count": 5,
   "id": "changed-premiere",
   "metadata": {},
   "outputs": [
    {
     "data": {
      "text/plain": [
       "'Newsmax TV PROGRAM ALERT 🚨 • 5:10PM ET: Richard Grenell ➡ The Chris Salcedo Show • 7:10: Rod Blagojevich ➡ Greg Kelly Reports • 8:00: Corey Lewandowski & Kimberly Klacik ➡ Stinchfield WATCH LIVE: nws.mx/tv:=:http://www.nws.mx/tv'"
      ]
     },
     "execution_count": 5,
     "metadata": {},
     "output_type": "execute_result"
    }
   ],
   "source": [
    "fb_dat['Message'][716]"
   ]
  },
  {
   "cell_type": "code",
   "execution_count": 19,
   "id": "comparable-savings",
   "metadata": {},
   "outputs": [],
   "source": [
    "#https://stackoverflow.com/questions/48945826/regex-emoji-unicode\n",
    "emoji_pattern = re.compile(\"[\"\n",
    "\"\\U0001F600-\\U0001F64F\"  # emoticons\n",
    "\"\\U0001F300-\\U0001F5FF\"  # symbols & pictographs\n",
    "\"\\U0001F680-\\U0001F6FF\"  # transport & map symbols\n",
    "\"\\U0001F1E0-\\U0001F1FF\"  # flags (iOS)\n",
    "\"\\u2600-\\u26FF\"  # Unicode Block 'Miscellaneous Symbols'\n",
    "                \"]\", flags= re.UNICODE)"
   ]
  },
  {
   "cell_type": "code",
   "execution_count": 41,
   "id": "specified-report",
   "metadata": {},
   "outputs": [
    {
     "data": {
      "text/plain": [
       "1834"
      ]
     },
     "execution_count": 41,
     "metadata": {},
     "output_type": "execute_result"
    }
   ],
   "source": [
    "fb_dat['Message'].isnull().sum()"
   ]
  },
  {
   "cell_type": "code",
   "execution_count": 43,
   "id": "plain-viking",
   "metadata": {},
   "outputs": [],
   "source": [
    "fb_dat_naomit = fb_dat.dropna(0, subset = ['Message'])"
   ]
  },
  {
   "cell_type": "code",
   "execution_count": 44,
   "id": "hindu-tribe",
   "metadata": {},
   "outputs": [
    {
     "data": {
      "text/plain": [
       "68556"
      ]
     },
     "execution_count": 44,
     "metadata": {},
     "output_type": "execute_result"
    }
   ],
   "source": [
    "len(fb_dat_naomit.index)"
   ]
  },
  {
   "cell_type": "code",
   "execution_count": 46,
   "id": "naked-stations",
   "metadata": {},
   "outputs": [
    {
     "data": {
      "text/plain": [
       "True"
      ]
     },
     "execution_count": 46,
     "metadata": {},
     "output_type": "execute_result"
    }
   ],
   "source": [
    "len(fb_dat.index) - len(fb_dat_naomit.index) == fb_dat['Message'].isnull().sum()"
   ]
  },
  {
   "cell_type": "code",
   "execution_count": 51,
   "id": "acquired-basis",
   "metadata": {},
   "outputs": [],
   "source": [
    "#https://stackoverflow.com/questions/42454200/how-to-encode-emojis-that-are-in-text-with-python-pandas-for-counting-them-find\n",
    "emoji_count = defaultdict(int)\n",
    "for i in fb_dat_naomit['Message']:\n",
    "    #print(type(i))\n",
    "    #print(re.findall('a', i))\n",
    "    for emoji in (re.findall(emoji_pattern, i)):\n",
    "        #print(emoji)\n",
    "        #for emoji in re.findall('[\\U0001f300-\\U0001f650]|[\\u2000-\\u3000]', i):\n",
    "        emoji_count[emoji] += 1"
   ]
  },
  {
   "cell_type": "code",
   "execution_count": 53,
   "id": "complex-reward",
   "metadata": {},
   "outputs": [
    {
     "name": "stdout",
     "output_type": "stream",
     "text": [
      "defaultdict(<class 'int'>, {'📍': 18, '🚨': 237, '💰': 6, '🔴': 2, '📈': 6, '📉': 5, '👏': 38, '🇺': 63, '🇸': 63, '💸': 3, '🐯': 6, '🚆': 1, '🛑': 2, '🐛': 1, '🐓': 1, '👀': 176, '🔊': 176, '📆': 1, '☹': 1, '🚗': 1, '📦': 1, '⚓': 2, '🐷': 1, '📷': 16, '🍎': 2, '🎧': 11, '🍖': 1, '🔥': 45, '🎉': 5, '🚀': 3, '🍾': 3, '🌎': 1, '🕙': 1, '🍻': 1, '🎄': 14, '🎁': 10, '👂': 1, '💬': 1, '♂': 3, '🎪': 1, '📧': 1, '😉': 4, '💩': 13, '🚁': 1, '👍': 19, '👇': 143, '🏈': 4, '🙄': 20, '🎼': 13, '🎤': 13, '🎷': 3, '🎶': 5, '🕎': 2, '🏽': 8, '♀': 7, '📺': 2, '🐨': 6, '🐶': 3, '😅': 31, '🌊': 27, '💨': 1, '👶': 1, '👊': 16, '🔍': 1, '🏿': 6, '🏾': 11, '🏌': 1, '😡': 11, '🐀': 2, '👨': 1, '🍳': 1, '🇫': 1, '🇷': 1, '🌕': 1, '🍄': 1, '📚': 1, '📖': 1, '🎅': 1, '🔒': 1, '😷': 4, '🎨': 1, '🍽': 1, '😀': 1, '😕': 1, '🍿': 4, '😳': 4, '🙌': 17, '😂': 12, '🛩': 1, '😬': 17, '😎': 8, '🐝': 3, '🌲': 3, '👔': 1, '🍑': 1, '🏫': 1, '💊': 1, '👎': 9, '📅': 1, '🐺': 1, '🐕': 1, '📞': 1, '😶': 1, '😟': 1, '🐱': 3, '🐾': 1, '🐙': 2, '🎆': 1, '🌈': 5, '🙂': 2, '☑': 5, '🌗': 1, '🙃': 24, '🗳': 23, '🌬': 1, '🎹': 3, '🕷': 1, '🎃': 1, '⚾': 1, '📢': 2, '🔵': 1, '😰': 1, '😔': 1, '⛰': 4, '🏼': 1, '🐮': 1, '🏳': 1, '🍰': 1, '😤': 13, '☎': 59, '📝': 33, '😮': 1, '💜': 1, '🌉': 1, '💪': 19, '😲': 5, '⚡': 2, '☣': 2, '🍕': 2, '🍟': 1, '🚸': 1, '🎖': 1, '🏆': 4, '🍂': 1, '⚠': 3, '😠': 1, '😧': 2, '🔉': 1, '💥': 3, '🏀': 1, '🏻': 1, '💯': 2, '🎦': 1, '🕵': 3, '🙋': 3, '☕': 3, '😵': 1, '📫': 1, '🏋': 1, '😆': 1, '😊': 1})\n"
     ]
    }
   ],
   "source": [
    "print(emoji_count)"
   ]
  },
  {
   "cell_type": "code",
   "execution_count": 55,
   "id": "vocal-skiing",
   "metadata": {},
   "outputs": [
    {
     "data": {
      "text/plain": [
       "1673"
      ]
     },
     "execution_count": 55,
     "metadata": {},
     "output_type": "execute_result"
    }
   ],
   "source": [
    "sum(emoji_count.values())"
   ]
  },
  {
   "cell_type": "code",
   "execution_count": 57,
   "id": "piano-profit",
   "metadata": {},
   "outputs": [],
   "source": [
    "emoji_in_post = []\n",
    "for i in fb_dat_naomit['Message']:\n",
    "    emoji_in_post.append(re.findall(emoji_pattern, i))"
   ]
  },
  {
   "cell_type": "code",
   "execution_count": 64,
   "id": "restricted-variety",
   "metadata": {},
   "outputs": [
    {
     "data": {
      "text/plain": [
       "[['🚨'], [], [], [], [], [], [], [], [], []]"
      ]
     },
     "execution_count": 64,
     "metadata": {},
     "output_type": "execute_result"
    }
   ],
   "source": [
    "emoji_in_post[710:720]"
   ]
  },
  {
   "cell_type": "code",
   "execution_count": 63,
   "id": "infrared-whale",
   "metadata": {},
   "outputs": [
    {
     "data": {
      "text/plain": [
       "True"
      ]
     },
     "execution_count": 63,
     "metadata": {},
     "output_type": "execute_result"
    }
   ],
   "source": [
    "len(emoji_in_post) == len(fb_dat_naomit.index)"
   ]
  },
  {
   "cell_type": "code",
   "execution_count": 60,
   "id": "right-blues",
   "metadata": {},
   "outputs": [
    {
     "name": "stderr",
     "output_type": "stream",
     "text": [
      "<ipython-input-60-bd2b83e49cbe>:1: SettingWithCopyWarning: \n",
      "A value is trying to be set on a copy of a slice from a DataFrame.\n",
      "Try using .loc[row_indexer,col_indexer] = value instead\n",
      "\n",
      "See the caveats in the documentation: https://pandas.pydata.org/pandas-docs/stable/user_guide/indexing.html#returning-a-view-versus-a-copy\n",
      "  fb_dat_naomit['emoji_in_post'] = emoji_in_post\n"
     ]
    },
    {
     "data": {
      "text/plain": [
       "716    [🚨]\n",
       "717     []\n",
       "718     []\n",
       "719     []\n",
       "720     []\n",
       "721     []\n",
       "722     []\n",
       "723     []\n",
       "724     []\n",
       "725     []\n",
       "Name: emoji_in_post, dtype: object"
      ]
     },
     "execution_count": 60,
     "metadata": {},
     "output_type": "execute_result"
    }
   ],
   "source": [
    "fb_dat_naomit['emoji_in_post'] = emoji_in_post\n",
    "fb_dat_naomit['emoji_in_post'][710:720]"
   ]
  },
  {
   "cell_type": "code",
   "execution_count": 61,
   "id": "ahead-vegetable",
   "metadata": {},
   "outputs": [
    {
     "name": "stderr",
     "output_type": "stream",
     "text": [
      "<ipython-input-61-3d01f38f2c83>:1: SettingWithCopyWarning: \n",
      "A value is trying to be set on a copy of a slice from a DataFrame.\n",
      "Try using .loc[row_indexer,col_indexer] = value instead\n",
      "\n",
      "See the caveats in the documentation: https://pandas.pydata.org/pandas-docs/stable/user_guide/indexing.html#returning-a-view-versus-a-copy\n",
      "  fb_dat_naomit['num_emoji_in_post'] = [len(x) for x in fb_dat_naomit['emoji_in_post']]\n"
     ]
    }
   ],
   "source": [
    "fb_dat_naomit['num_emoji_in_post'] = [len(x) for x in fb_dat_naomit['emoji_in_post']]"
   ]
  },
  {
   "cell_type": "code",
   "execution_count": 62,
   "id": "serious-arrangement",
   "metadata": {},
   "outputs": [
    {
     "data": {
      "text/plain": [
       "716    1\n",
       "717    0\n",
       "718    0\n",
       "719    0\n",
       "720    0\n",
       "721    0\n",
       "722    0\n",
       "723    0\n",
       "724    0\n",
       "725    0\n",
       "Name: num_emoji_in_post, dtype: int64"
      ]
     },
     "execution_count": 62,
     "metadata": {},
     "output_type": "execute_result"
    }
   ],
   "source": [
    "fb_dat_naomit['num_emoji_in_post'][710:720]"
   ]
  },
  {
   "cell_type": "code",
   "execution_count": 65,
   "id": "judicial-platform",
   "metadata": {},
   "outputs": [
    {
     "name": "stderr",
     "output_type": "stream",
     "text": [
      "<ipython-input-65-efd76e6ee0b8>:1: SettingWithCopyWarning: \n",
      "A value is trying to be set on a copy of a slice from a DataFrame.\n",
      "Try using .loc[row_indexer,col_indexer] = value instead\n",
      "\n",
      "See the caveats in the documentation: https://pandas.pydata.org/pandas-docs/stable/user_guide/indexing.html#returning-a-view-versus-a-copy\n",
      "  fb_dat_naomit['emoji_present'] = [1 if x > 0 else 0 for x in fb_dat_naomit['num_emoji_in_post']]\n"
     ]
    }
   ],
   "source": [
    "fb_dat_naomit['emoji_present'] = [1 if x > 0 else 0 for x in fb_dat_naomit['num_emoji_in_post']]"
   ]
  },
  {
   "cell_type": "code",
   "execution_count": 67,
   "id": "growing-wallet",
   "metadata": {},
   "outputs": [
    {
     "data": {
      "text/plain": [
       "716    1\n",
       "717    0\n",
       "718    0\n",
       "719    0\n",
       "720    0\n",
       "721    0\n",
       "722    0\n",
       "723    0\n",
       "724    0\n",
       "725    0\n",
       "Name: emoji_present, dtype: int64"
      ]
     },
     "execution_count": 67,
     "metadata": {},
     "output_type": "execute_result"
    }
   ],
   "source": [
    "fb_dat_naomit['emoji_present'][710:720]"
   ]
  },
  {
   "cell_type": "code",
   "execution_count": 68,
   "id": "documentary-deputy",
   "metadata": {},
   "outputs": [
    {
     "data": {
      "text/plain": [
       "1159"
      ]
     },
     "execution_count": 68,
     "metadata": {},
     "output_type": "execute_result"
    }
   ],
   "source": [
    "sum(fb_dat_naomit['emoji_present'])"
   ]
  },
  {
   "cell_type": "code",
   "execution_count": 69,
   "id": "finished-makeup",
   "metadata": {},
   "outputs": [
    {
     "data": {
      "text/plain": [
       "1673"
      ]
     },
     "execution_count": 69,
     "metadata": {},
     "output_type": "execute_result"
    }
   ],
   "source": [
    "sum(fb_dat_naomit['num_emoji_in_post'])"
   ]
  },
  {
   "cell_type": "code",
   "execution_count": 72,
   "id": "celtic-enzyme",
   "metadata": {},
   "outputs": [
    {
     "data": {
      "text/html": [
       "<div>\n",
       "<style scoped>\n",
       "    .dataframe tbody tr th:only-of-type {\n",
       "        vertical-align: middle;\n",
       "    }\n",
       "\n",
       "    .dataframe tbody tr th {\n",
       "        vertical-align: top;\n",
       "    }\n",
       "\n",
       "    .dataframe thead th {\n",
       "        text-align: right;\n",
       "    }\n",
       "</style>\n",
       "<table border=\"1\" class=\"dataframe\">\n",
       "  <thead>\n",
       "    <tr style=\"text-align: right;\">\n",
       "      <th></th>\n",
       "      <th>Facebook Id</th>\n",
       "      <th>Likes at Posting</th>\n",
       "      <th>Followers at Posting</th>\n",
       "      <th>Likes</th>\n",
       "      <th>Comments</th>\n",
       "      <th>Shares</th>\n",
       "      <th>Love</th>\n",
       "      <th>Wow</th>\n",
       "      <th>Haha</th>\n",
       "      <th>Sad</th>\n",
       "      <th>Angry</th>\n",
       "      <th>Care</th>\n",
       "      <th>Post Views</th>\n",
       "      <th>Total Views</th>\n",
       "      <th>Total Views For All Crossposts</th>\n",
       "      <th>Sponsor Id</th>\n",
       "      <th>num_emoji_in_post</th>\n",
       "      <th>emoji_present</th>\n",
       "    </tr>\n",
       "    <tr>\n",
       "      <th>Page Name</th>\n",
       "      <th></th>\n",
       "      <th></th>\n",
       "      <th></th>\n",
       "      <th></th>\n",
       "      <th></th>\n",
       "      <th></th>\n",
       "      <th></th>\n",
       "      <th></th>\n",
       "      <th></th>\n",
       "      <th></th>\n",
       "      <th></th>\n",
       "      <th></th>\n",
       "      <th></th>\n",
       "      <th></th>\n",
       "      <th></th>\n",
       "      <th></th>\n",
       "      <th></th>\n",
       "      <th></th>\n",
       "    </tr>\n",
       "  </thead>\n",
       "  <tbody>\n",
       "    <tr>\n",
       "      <th>Breitbart</th>\n",
       "      <td>9.351778e+14</td>\n",
       "      <td>43811143814</td>\n",
       "      <td>50589045372</td>\n",
       "      <td>61821477</td>\n",
       "      <td>37520236</td>\n",
       "      <td>22836913</td>\n",
       "      <td>11682745</td>\n",
       "      <td>3008481</td>\n",
       "      <td>17698698</td>\n",
       "      <td>2325459</td>\n",
       "      <td>25801636</td>\n",
       "      <td>486980</td>\n",
       "      <td>346467099</td>\n",
       "      <td>450886634</td>\n",
       "      <td>0</td>\n",
       "      <td>1.380936e+12</td>\n",
       "      <td>74</td>\n",
       "      <td>23</td>\n",
       "    </tr>\n",
       "    <tr>\n",
       "      <th>Daily Kos</th>\n",
       "      <td>1.225448e+14</td>\n",
       "      <td>3691999216</td>\n",
       "      <td>3576699748</td>\n",
       "      <td>1627718</td>\n",
       "      <td>423278</td>\n",
       "      <td>705664</td>\n",
       "      <td>189005</td>\n",
       "      <td>57822</td>\n",
       "      <td>341229</td>\n",
       "      <td>95551</td>\n",
       "      <td>506602</td>\n",
       "      <td>13159</td>\n",
       "      <td>1065200</td>\n",
       "      <td>10113301</td>\n",
       "      <td>24302286</td>\n",
       "      <td>0.000000e+00</td>\n",
       "      <td>1006</td>\n",
       "      <td>588</td>\n",
       "    </tr>\n",
       "    <tr>\n",
       "      <th>Donald J. Trump</th>\n",
       "      <td>2.873330e+14</td>\n",
       "      <td>57117068514</td>\n",
       "      <td>61226517208</td>\n",
       "      <td>342183300</td>\n",
       "      <td>61595871</td>\n",
       "      <td>31215116</td>\n",
       "      <td>62768380</td>\n",
       "      <td>2821257</td>\n",
       "      <td>9941965</td>\n",
       "      <td>2267596</td>\n",
       "      <td>8540447</td>\n",
       "      <td>3168619</td>\n",
       "      <td>378213325</td>\n",
       "      <td>526727924</td>\n",
       "      <td>271155928</td>\n",
       "      <td>0.000000e+00</td>\n",
       "      <td>12</td>\n",
       "      <td>6</td>\n",
       "    </tr>\n",
       "    <tr>\n",
       "      <th>Fox News</th>\n",
       "      <td>1.244114e+14</td>\n",
       "      <td>148438057723</td>\n",
       "      <td>177636695517</td>\n",
       "      <td>124673897</td>\n",
       "      <td>69593204</td>\n",
       "      <td>21257020</td>\n",
       "      <td>28015127</td>\n",
       "      <td>2951473</td>\n",
       "      <td>27082548</td>\n",
       "      <td>5766424</td>\n",
       "      <td>25048009</td>\n",
       "      <td>1948352</td>\n",
       "      <td>992296036</td>\n",
       "      <td>1152681866</td>\n",
       "      <td>1270721979</td>\n",
       "      <td>6.825557e+15</td>\n",
       "      <td>0</td>\n",
       "      <td>0</td>\n",
       "    </tr>\n",
       "    <tr>\n",
       "      <th>Joe Biden</th>\n",
       "      <td>9.401608e+12</td>\n",
       "      <td>4624147023</td>\n",
       "      <td>5277947290</td>\n",
       "      <td>58246028</td>\n",
       "      <td>12716481</td>\n",
       "      <td>6748419</td>\n",
       "      <td>16847691</td>\n",
       "      <td>142623</td>\n",
       "      <td>1531083</td>\n",
       "      <td>633503</td>\n",
       "      <td>601755</td>\n",
       "      <td>1368210</td>\n",
       "      <td>221832030</td>\n",
       "      <td>308024475</td>\n",
       "      <td>274522335</td>\n",
       "      <td>0.000000e+00</td>\n",
       "      <td>3</td>\n",
       "      <td>3</td>\n",
       "    </tr>\n",
       "    <tr>\n",
       "      <th>MSNBC</th>\n",
       "      <td>4.583405e+18</td>\n",
       "      <td>40546356918</td>\n",
       "      <td>41991962905</td>\n",
       "      <td>19059913</td>\n",
       "      <td>10455726</td>\n",
       "      <td>4083188</td>\n",
       "      <td>4013044</td>\n",
       "      <td>755639</td>\n",
       "      <td>2547948</td>\n",
       "      <td>1957390</td>\n",
       "      <td>4652528</td>\n",
       "      <td>407735</td>\n",
       "      <td>73607687</td>\n",
       "      <td>88395842</td>\n",
       "      <td>8697413</td>\n",
       "      <td>1.496767e+10</td>\n",
       "      <td>1</td>\n",
       "      <td>1</td>\n",
       "    </tr>\n",
       "    <tr>\n",
       "      <th>Newsmax</th>\n",
       "      <td>5.009200e+14</td>\n",
       "      <td>12717312630</td>\n",
       "      <td>15009347550</td>\n",
       "      <td>47172281</td>\n",
       "      <td>14828948</td>\n",
       "      <td>10723557</td>\n",
       "      <td>7923263</td>\n",
       "      <td>1010686</td>\n",
       "      <td>6005643</td>\n",
       "      <td>1252732</td>\n",
       "      <td>8530478</td>\n",
       "      <td>360566</td>\n",
       "      <td>401838768</td>\n",
       "      <td>639482878</td>\n",
       "      <td>16544</td>\n",
       "      <td>0.000000e+00</td>\n",
       "      <td>505</td>\n",
       "      <td>496</td>\n",
       "    </tr>\n",
       "    <tr>\n",
       "      <th>One America News Network</th>\n",
       "      <td>7.407494e+17</td>\n",
       "      <td>3284329279</td>\n",
       "      <td>3557609968</td>\n",
       "      <td>5894908</td>\n",
       "      <td>1573146</td>\n",
       "      <td>1107060</td>\n",
       "      <td>888309</td>\n",
       "      <td>224057</td>\n",
       "      <td>378941</td>\n",
       "      <td>233835</td>\n",
       "      <td>810085</td>\n",
       "      <td>52025</td>\n",
       "      <td>1070310</td>\n",
       "      <td>1173771</td>\n",
       "      <td>0</td>\n",
       "      <td>0.000000e+00</td>\n",
       "      <td>8</td>\n",
       "      <td>4</td>\n",
       "    </tr>\n",
       "    <tr>\n",
       "      <th>The New York Times</th>\n",
       "      <td>5.841320e+13</td>\n",
       "      <td>193521791754</td>\n",
       "      <td>196205547120</td>\n",
       "      <td>33044432</td>\n",
       "      <td>8111439</td>\n",
       "      <td>5188703</td>\n",
       "      <td>6461369</td>\n",
       "      <td>1575420</td>\n",
       "      <td>3273356</td>\n",
       "      <td>3750230</td>\n",
       "      <td>6713549</td>\n",
       "      <td>651102</td>\n",
       "      <td>53641727</td>\n",
       "      <td>62163637</td>\n",
       "      <td>306373</td>\n",
       "      <td>0.000000e+00</td>\n",
       "      <td>64</td>\n",
       "      <td>38</td>\n",
       "    </tr>\n",
       "    <tr>\n",
       "      <th>The Wall Street Journal</th>\n",
       "      <td>6.566236e+13</td>\n",
       "      <td>51876492219</td>\n",
       "      <td>53029187936</td>\n",
       "      <td>5652988</td>\n",
       "      <td>2738383</td>\n",
       "      <td>978455</td>\n",
       "      <td>690076</td>\n",
       "      <td>263103</td>\n",
       "      <td>929813</td>\n",
       "      <td>522185</td>\n",
       "      <td>798433</td>\n",
       "      <td>61669</td>\n",
       "      <td>829814</td>\n",
       "      <td>4301160</td>\n",
       "      <td>0</td>\n",
       "      <td>0.000000e+00</td>\n",
       "      <td>0</td>\n",
       "      <td>0</td>\n",
       "    </tr>\n",
       "  </tbody>\n",
       "</table>\n",
       "</div>"
      ],
      "text/plain": [
       "                           Facebook Id  Likes at Posting  \\\n",
       "Page Name                                                  \n",
       "Breitbart                 9.351778e+14       43811143814   \n",
       "Daily Kos                 1.225448e+14        3691999216   \n",
       "Donald J. Trump           2.873330e+14       57117068514   \n",
       "Fox News                  1.244114e+14      148438057723   \n",
       "Joe Biden                 9.401608e+12        4624147023   \n",
       "MSNBC                     4.583405e+18       40546356918   \n",
       "Newsmax                   5.009200e+14       12717312630   \n",
       "One America News Network  7.407494e+17        3284329279   \n",
       "The New York Times        5.841320e+13      193521791754   \n",
       "The Wall Street Journal   6.566236e+13       51876492219   \n",
       "\n",
       "                          Followers at Posting      Likes  Comments    Shares  \\\n",
       "Page Name                                                                       \n",
       "Breitbart                          50589045372   61821477  37520236  22836913   \n",
       "Daily Kos                           3576699748    1627718    423278    705664   \n",
       "Donald J. Trump                    61226517208  342183300  61595871  31215116   \n",
       "Fox News                          177636695517  124673897  69593204  21257020   \n",
       "Joe Biden                           5277947290   58246028  12716481   6748419   \n",
       "MSNBC                              41991962905   19059913  10455726   4083188   \n",
       "Newsmax                            15009347550   47172281  14828948  10723557   \n",
       "One America News Network            3557609968    5894908   1573146   1107060   \n",
       "The New York Times                196205547120   33044432   8111439   5188703   \n",
       "The Wall Street Journal            53029187936    5652988   2738383    978455   \n",
       "\n",
       "                              Love      Wow      Haha      Sad     Angry  \\\n",
       "Page Name                                                                  \n",
       "Breitbart                 11682745  3008481  17698698  2325459  25801636   \n",
       "Daily Kos                   189005    57822    341229    95551    506602   \n",
       "Donald J. Trump           62768380  2821257   9941965  2267596   8540447   \n",
       "Fox News                  28015127  2951473  27082548  5766424  25048009   \n",
       "Joe Biden                 16847691   142623   1531083   633503    601755   \n",
       "MSNBC                      4013044   755639   2547948  1957390   4652528   \n",
       "Newsmax                    7923263  1010686   6005643  1252732   8530478   \n",
       "One America News Network    888309   224057    378941   233835    810085   \n",
       "The New York Times         6461369  1575420   3273356  3750230   6713549   \n",
       "The Wall Street Journal     690076   263103    929813   522185    798433   \n",
       "\n",
       "                             Care  Post Views  Total Views  \\\n",
       "Page Name                                                    \n",
       "Breitbart                  486980   346467099    450886634   \n",
       "Daily Kos                   13159     1065200     10113301   \n",
       "Donald J. Trump           3168619   378213325    526727924   \n",
       "Fox News                  1948352   992296036   1152681866   \n",
       "Joe Biden                 1368210   221832030    308024475   \n",
       "MSNBC                      407735    73607687     88395842   \n",
       "Newsmax                    360566   401838768    639482878   \n",
       "One America News Network    52025     1070310      1173771   \n",
       "The New York Times         651102    53641727     62163637   \n",
       "The Wall Street Journal     61669      829814      4301160   \n",
       "\n",
       "                          Total Views For All Crossposts    Sponsor Id  \\\n",
       "Page Name                                                                \n",
       "Breitbart                                              0  1.380936e+12   \n",
       "Daily Kos                                       24302286  0.000000e+00   \n",
       "Donald J. Trump                                271155928  0.000000e+00   \n",
       "Fox News                                      1270721979  6.825557e+15   \n",
       "Joe Biden                                      274522335  0.000000e+00   \n",
       "MSNBC                                            8697413  1.496767e+10   \n",
       "Newsmax                                            16544  0.000000e+00   \n",
       "One America News Network                               0  0.000000e+00   \n",
       "The New York Times                                306373  0.000000e+00   \n",
       "The Wall Street Journal                                0  0.000000e+00   \n",
       "\n",
       "                          num_emoji_in_post  emoji_present  \n",
       "Page Name                                                   \n",
       "Breitbart                                74             23  \n",
       "Daily Kos                              1006            588  \n",
       "Donald J. Trump                          12              6  \n",
       "Fox News                                  0              0  \n",
       "Joe Biden                                 3              3  \n",
       "MSNBC                                     1              1  \n",
       "Newsmax                                 505            496  \n",
       "One America News Network                  8              4  \n",
       "The New York Times                       64             38  \n",
       "The Wall Street Journal                   0              0  "
      ]
     },
     "execution_count": 72,
     "metadata": {},
     "output_type": "execute_result"
    }
   ],
   "source": [
    "fb_dat_naomit.groupby('Page Name').sum()"
   ]
  },
  {
   "cell_type": "code",
   "execution_count": 73,
   "id": "negative-imagination",
   "metadata": {},
   "outputs": [
    {
     "data": {
      "text/html": [
       "<div>\n",
       "<style scoped>\n",
       "    .dataframe tbody tr th:only-of-type {\n",
       "        vertical-align: middle;\n",
       "    }\n",
       "\n",
       "    .dataframe tbody tr th {\n",
       "        vertical-align: top;\n",
       "    }\n",
       "\n",
       "    .dataframe thead th {\n",
       "        text-align: right;\n",
       "    }\n",
       "</style>\n",
       "<table border=\"1\" class=\"dataframe\">\n",
       "  <thead>\n",
       "    <tr style=\"text-align: right;\">\n",
       "      <th></th>\n",
       "      <th>User Name</th>\n",
       "      <th>Facebook Id</th>\n",
       "      <th>Page Category</th>\n",
       "      <th>Page Admin Top Country</th>\n",
       "      <th>Page Description</th>\n",
       "      <th>Page Created</th>\n",
       "      <th>Likes at Posting</th>\n",
       "      <th>Followers at Posting</th>\n",
       "      <th>Post Created</th>\n",
       "      <th>Post Created Date</th>\n",
       "      <th>...</th>\n",
       "      <th>Image Text</th>\n",
       "      <th>Link Text</th>\n",
       "      <th>Description</th>\n",
       "      <th>Sponsor Id</th>\n",
       "      <th>Sponsor Name</th>\n",
       "      <th>Sponsor Category</th>\n",
       "      <th>Overperforming Score (weighted  —  Likes 1x Shares 1x Comments 1x Love 1x Wow 1x Haha 1x Sad 1x Angry 1x Care 1x )</th>\n",
       "      <th>emoji_in_post</th>\n",
       "      <th>num_emoji_in_post</th>\n",
       "      <th>emoji_present</th>\n",
       "    </tr>\n",
       "    <tr>\n",
       "      <th>Page Name</th>\n",
       "      <th></th>\n",
       "      <th></th>\n",
       "      <th></th>\n",
       "      <th></th>\n",
       "      <th></th>\n",
       "      <th></th>\n",
       "      <th></th>\n",
       "      <th></th>\n",
       "      <th></th>\n",
       "      <th></th>\n",
       "      <th></th>\n",
       "      <th></th>\n",
       "      <th></th>\n",
       "      <th></th>\n",
       "      <th></th>\n",
       "      <th></th>\n",
       "      <th></th>\n",
       "      <th></th>\n",
       "      <th></th>\n",
       "      <th></th>\n",
       "      <th></th>\n",
       "    </tr>\n",
       "  </thead>\n",
       "  <tbody>\n",
       "    <tr>\n",
       "      <th>Breitbart</th>\n",
       "      <td>9795</td>\n",
       "      <td>9795</td>\n",
       "      <td>9795</td>\n",
       "      <td>9795</td>\n",
       "      <td>9795</td>\n",
       "      <td>9795</td>\n",
       "      <td>9795</td>\n",
       "      <td>9795</td>\n",
       "      <td>9795</td>\n",
       "      <td>9795</td>\n",
       "      <td>...</td>\n",
       "      <td>277</td>\n",
       "      <td>8419</td>\n",
       "      <td>1805</td>\n",
       "      <td>4</td>\n",
       "      <td>4</td>\n",
       "      <td>4</td>\n",
       "      <td>9795</td>\n",
       "      <td>9795</td>\n",
       "      <td>9795</td>\n",
       "      <td>9795</td>\n",
       "    </tr>\n",
       "    <tr>\n",
       "      <th>Daily Kos</th>\n",
       "      <td>2838</td>\n",
       "      <td>2838</td>\n",
       "      <td>2838</td>\n",
       "      <td>2838</td>\n",
       "      <td>2838</td>\n",
       "      <td>2838</td>\n",
       "      <td>2838</td>\n",
       "      <td>2838</td>\n",
       "      <td>2838</td>\n",
       "      <td>2838</td>\n",
       "      <td>...</td>\n",
       "      <td>348</td>\n",
       "      <td>2416</td>\n",
       "      <td>2304</td>\n",
       "      <td>0</td>\n",
       "      <td>0</td>\n",
       "      <td>0</td>\n",
       "      <td>2838</td>\n",
       "      <td>2838</td>\n",
       "      <td>2838</td>\n",
       "      <td>2838</td>\n",
       "    </tr>\n",
       "    <tr>\n",
       "      <th>Donald J. Trump</th>\n",
       "      <td>1877</td>\n",
       "      <td>1877</td>\n",
       "      <td>1877</td>\n",
       "      <td>1877</td>\n",
       "      <td>1877</td>\n",
       "      <td>1877</td>\n",
       "      <td>1877</td>\n",
       "      <td>1877</td>\n",
       "      <td>1877</td>\n",
       "      <td>1877</td>\n",
       "      <td>...</td>\n",
       "      <td>59</td>\n",
       "      <td>530</td>\n",
       "      <td>267</td>\n",
       "      <td>0</td>\n",
       "      <td>0</td>\n",
       "      <td>0</td>\n",
       "      <td>1877</td>\n",
       "      <td>1877</td>\n",
       "      <td>1877</td>\n",
       "      <td>1877</td>\n",
       "    </tr>\n",
       "    <tr>\n",
       "      <th>Fox News</th>\n",
       "      <td>7922</td>\n",
       "      <td>7922</td>\n",
       "      <td>7922</td>\n",
       "      <td>7922</td>\n",
       "      <td>7922</td>\n",
       "      <td>7922</td>\n",
       "      <td>7922</td>\n",
       "      <td>7922</td>\n",
       "      <td>7922</td>\n",
       "      <td>7922</td>\n",
       "      <td>...</td>\n",
       "      <td>755</td>\n",
       "      <td>6107</td>\n",
       "      <td>4139</td>\n",
       "      <td>10</td>\n",
       "      <td>10</td>\n",
       "      <td>10</td>\n",
       "      <td>7922</td>\n",
       "      <td>7922</td>\n",
       "      <td>7922</td>\n",
       "      <td>7922</td>\n",
       "    </tr>\n",
       "    <tr>\n",
       "      <th>Joe Biden</th>\n",
       "      <td>1196</td>\n",
       "      <td>1196</td>\n",
       "      <td>1196</td>\n",
       "      <td>1196</td>\n",
       "      <td>1196</td>\n",
       "      <td>1196</td>\n",
       "      <td>1196</td>\n",
       "      <td>1196</td>\n",
       "      <td>1196</td>\n",
       "      <td>1196</td>\n",
       "      <td>...</td>\n",
       "      <td>131</td>\n",
       "      <td>693</td>\n",
       "      <td>168</td>\n",
       "      <td>0</td>\n",
       "      <td>0</td>\n",
       "      <td>0</td>\n",
       "      <td>1196</td>\n",
       "      <td>1196</td>\n",
       "      <td>1196</td>\n",
       "      <td>1196</td>\n",
       "    </tr>\n",
       "    <tr>\n",
       "      <th>MSNBC</th>\n",
       "      <td>16736</td>\n",
       "      <td>16736</td>\n",
       "      <td>16736</td>\n",
       "      <td>16736</td>\n",
       "      <td>16736</td>\n",
       "      <td>16736</td>\n",
       "      <td>16736</td>\n",
       "      <td>16736</td>\n",
       "      <td>16736</td>\n",
       "      <td>16736</td>\n",
       "      <td>...</td>\n",
       "      <td>317</td>\n",
       "      <td>16606</td>\n",
       "      <td>14042</td>\n",
       "      <td>2</td>\n",
       "      <td>2</td>\n",
       "      <td>2</td>\n",
       "      <td>16736</td>\n",
       "      <td>16736</td>\n",
       "      <td>16736</td>\n",
       "      <td>16736</td>\n",
       "    </tr>\n",
       "    <tr>\n",
       "      <th>Newsmax</th>\n",
       "      <td>5862</td>\n",
       "      <td>5862</td>\n",
       "      <td>5862</td>\n",
       "      <td>5862</td>\n",
       "      <td>5862</td>\n",
       "      <td>5862</td>\n",
       "      <td>5862</td>\n",
       "      <td>5862</td>\n",
       "      <td>5862</td>\n",
       "      <td>5862</td>\n",
       "      <td>...</td>\n",
       "      <td>538</td>\n",
       "      <td>5557</td>\n",
       "      <td>1291</td>\n",
       "      <td>0</td>\n",
       "      <td>0</td>\n",
       "      <td>0</td>\n",
       "      <td>5862</td>\n",
       "      <td>5862</td>\n",
       "      <td>5862</td>\n",
       "      <td>5862</td>\n",
       "    </tr>\n",
       "    <tr>\n",
       "      <th>One America News Network</th>\n",
       "      <td>3364</td>\n",
       "      <td>3364</td>\n",
       "      <td>3364</td>\n",
       "      <td>3364</td>\n",
       "      <td>3364</td>\n",
       "      <td>3364</td>\n",
       "      <td>3364</td>\n",
       "      <td>3364</td>\n",
       "      <td>3364</td>\n",
       "      <td>3364</td>\n",
       "      <td>...</td>\n",
       "      <td>247</td>\n",
       "      <td>2239</td>\n",
       "      <td>2201</td>\n",
       "      <td>0</td>\n",
       "      <td>0</td>\n",
       "      <td>0</td>\n",
       "      <td>3364</td>\n",
       "      <td>3364</td>\n",
       "      <td>3364</td>\n",
       "      <td>3364</td>\n",
       "    </tr>\n",
       "    <tr>\n",
       "      <th>The New York Times</th>\n",
       "      <td>11059</td>\n",
       "      <td>11059</td>\n",
       "      <td>11059</td>\n",
       "      <td>11059</td>\n",
       "      <td>11059</td>\n",
       "      <td>11059</td>\n",
       "      <td>11059</td>\n",
       "      <td>11059</td>\n",
       "      <td>11059</td>\n",
       "      <td>11059</td>\n",
       "      <td>...</td>\n",
       "      <td>340</td>\n",
       "      <td>10975</td>\n",
       "      <td>7653</td>\n",
       "      <td>0</td>\n",
       "      <td>0</td>\n",
       "      <td>0</td>\n",
       "      <td>11059</td>\n",
       "      <td>11059</td>\n",
       "      <td>11059</td>\n",
       "      <td>11059</td>\n",
       "    </tr>\n",
       "    <tr>\n",
       "      <th>The Wall Street Journal</th>\n",
       "      <td>7907</td>\n",
       "      <td>7907</td>\n",
       "      <td>7907</td>\n",
       "      <td>7907</td>\n",
       "      <td>7907</td>\n",
       "      <td>7907</td>\n",
       "      <td>7907</td>\n",
       "      <td>7907</td>\n",
       "      <td>7907</td>\n",
       "      <td>7907</td>\n",
       "      <td>...</td>\n",
       "      <td>1</td>\n",
       "      <td>7904</td>\n",
       "      <td>3334</td>\n",
       "      <td>0</td>\n",
       "      <td>0</td>\n",
       "      <td>0</td>\n",
       "      <td>7907</td>\n",
       "      <td>7907</td>\n",
       "      <td>7907</td>\n",
       "      <td>7907</td>\n",
       "    </tr>\n",
       "  </tbody>\n",
       "</table>\n",
       "<p>10 rows × 42 columns</p>\n",
       "</div>"
      ],
      "text/plain": [
       "                          User Name  Facebook Id  Page Category  \\\n",
       "Page Name                                                         \n",
       "Breitbart                      9795         9795           9795   \n",
       "Daily Kos                      2838         2838           2838   \n",
       "Donald J. Trump                1877         1877           1877   \n",
       "Fox News                       7922         7922           7922   \n",
       "Joe Biden                      1196         1196           1196   \n",
       "MSNBC                         16736        16736          16736   \n",
       "Newsmax                        5862         5862           5862   \n",
       "One America News Network       3364         3364           3364   \n",
       "The New York Times            11059        11059          11059   \n",
       "The Wall Street Journal        7907         7907           7907   \n",
       "\n",
       "                          Page Admin Top Country  Page Description  \\\n",
       "Page Name                                                            \n",
       "Breitbart                                   9795              9795   \n",
       "Daily Kos                                   2838              2838   \n",
       "Donald J. Trump                             1877              1877   \n",
       "Fox News                                    7922              7922   \n",
       "Joe Biden                                   1196              1196   \n",
       "MSNBC                                      16736             16736   \n",
       "Newsmax                                     5862              5862   \n",
       "One America News Network                    3364              3364   \n",
       "The New York Times                         11059             11059   \n",
       "The Wall Street Journal                     7907              7907   \n",
       "\n",
       "                          Page Created  Likes at Posting  \\\n",
       "Page Name                                                  \n",
       "Breitbart                         9795              9795   \n",
       "Daily Kos                         2838              2838   \n",
       "Donald J. Trump                   1877              1877   \n",
       "Fox News                          7922              7922   \n",
       "Joe Biden                         1196              1196   \n",
       "MSNBC                            16736             16736   \n",
       "Newsmax                           5862              5862   \n",
       "One America News Network          3364              3364   \n",
       "The New York Times               11059             11059   \n",
       "The Wall Street Journal           7907              7907   \n",
       "\n",
       "                          Followers at Posting  Post Created  \\\n",
       "Page Name                                                      \n",
       "Breitbart                                 9795          9795   \n",
       "Daily Kos                                 2838          2838   \n",
       "Donald J. Trump                           1877          1877   \n",
       "Fox News                                  7922          7922   \n",
       "Joe Biden                                 1196          1196   \n",
       "MSNBC                                    16736         16736   \n",
       "Newsmax                                   5862          5862   \n",
       "One America News Network                  3364          3364   \n",
       "The New York Times                       11059         11059   \n",
       "The Wall Street Journal                   7907          7907   \n",
       "\n",
       "                          Post Created Date  ...  Image Text  Link Text  \\\n",
       "Page Name                                    ...                          \n",
       "Breitbart                              9795  ...         277       8419   \n",
       "Daily Kos                              2838  ...         348       2416   \n",
       "Donald J. Trump                        1877  ...          59        530   \n",
       "Fox News                               7922  ...         755       6107   \n",
       "Joe Biden                              1196  ...         131        693   \n",
       "MSNBC                                 16736  ...         317      16606   \n",
       "Newsmax                                5862  ...         538       5557   \n",
       "One America News Network               3364  ...         247       2239   \n",
       "The New York Times                    11059  ...         340      10975   \n",
       "The Wall Street Journal                7907  ...           1       7904   \n",
       "\n",
       "                          Description  Sponsor Id  Sponsor Name  \\\n",
       "Page Name                                                         \n",
       "Breitbart                        1805           4             4   \n",
       "Daily Kos                        2304           0             0   \n",
       "Donald J. Trump                   267           0             0   \n",
       "Fox News                         4139          10            10   \n",
       "Joe Biden                         168           0             0   \n",
       "MSNBC                           14042           2             2   \n",
       "Newsmax                          1291           0             0   \n",
       "One America News Network         2201           0             0   \n",
       "The New York Times               7653           0             0   \n",
       "The Wall Street Journal          3334           0             0   \n",
       "\n",
       "                          Sponsor Category  \\\n",
       "Page Name                                    \n",
       "Breitbart                                4   \n",
       "Daily Kos                                0   \n",
       "Donald J. Trump                          0   \n",
       "Fox News                                10   \n",
       "Joe Biden                                0   \n",
       "MSNBC                                    2   \n",
       "Newsmax                                  0   \n",
       "One America News Network                 0   \n",
       "The New York Times                       0   \n",
       "The Wall Street Journal                  0   \n",
       "\n",
       "                          Overperforming Score (weighted  —  Likes 1x Shares 1x Comments 1x Love 1x Wow 1x Haha 1x Sad 1x Angry 1x Care 1x )  \\\n",
       "Page Name                                                                                                                                      \n",
       "Breitbart                                                              9795                                                                    \n",
       "Daily Kos                                                              2838                                                                    \n",
       "Donald J. Trump                                                        1877                                                                    \n",
       "Fox News                                                               7922                                                                    \n",
       "Joe Biden                                                              1196                                                                    \n",
       "MSNBC                                                                 16736                                                                    \n",
       "Newsmax                                                                5862                                                                    \n",
       "One America News Network                                               3364                                                                    \n",
       "The New York Times                                                    11059                                                                    \n",
       "The Wall Street Journal                                                7907                                                                    \n",
       "\n",
       "                          emoji_in_post  num_emoji_in_post  emoji_present  \n",
       "Page Name                                                                  \n",
       "Breitbart                          9795               9795           9795  \n",
       "Daily Kos                          2838               2838           2838  \n",
       "Donald J. Trump                    1877               1877           1877  \n",
       "Fox News                           7922               7922           7922  \n",
       "Joe Biden                          1196               1196           1196  \n",
       "MSNBC                             16736              16736          16736  \n",
       "Newsmax                            5862               5862           5862  \n",
       "One America News Network           3364               3364           3364  \n",
       "The New York Times                11059              11059          11059  \n",
       "The Wall Street Journal            7907               7907           7907  \n",
       "\n",
       "[10 rows x 42 columns]"
      ]
     },
     "execution_count": 73,
     "metadata": {},
     "output_type": "execute_result"
    }
   ],
   "source": [
    "fb_dat_naomit.groupby('Page Name').count()"
   ]
  },
  {
   "cell_type": "code",
   "execution_count": 76,
   "id": "continuous-invitation",
   "metadata": {},
   "outputs": [
    {
     "data": {
      "text/html": [
       "<div>\n",
       "<style scoped>\n",
       "    .dataframe tbody tr th:only-of-type {\n",
       "        vertical-align: middle;\n",
       "    }\n",
       "\n",
       "    .dataframe tbody tr th {\n",
       "        vertical-align: top;\n",
       "    }\n",
       "\n",
       "    .dataframe thead th {\n",
       "        text-align: right;\n",
       "    }\n",
       "</style>\n",
       "<table border=\"1\" class=\"dataframe\">\n",
       "  <thead>\n",
       "    <tr style=\"text-align: right;\">\n",
       "      <th></th>\n",
       "      <th>User Name</th>\n",
       "    </tr>\n",
       "    <tr>\n",
       "      <th>Page Name</th>\n",
       "      <th></th>\n",
       "    </tr>\n",
       "  </thead>\n",
       "  <tbody>\n",
       "    <tr>\n",
       "      <th>Breitbart</th>\n",
       "      <td>9795</td>\n",
       "    </tr>\n",
       "    <tr>\n",
       "      <th>Daily Kos</th>\n",
       "      <td>2838</td>\n",
       "    </tr>\n",
       "    <tr>\n",
       "      <th>Donald J. Trump</th>\n",
       "      <td>1877</td>\n",
       "    </tr>\n",
       "    <tr>\n",
       "      <th>Fox News</th>\n",
       "      <td>7922</td>\n",
       "    </tr>\n",
       "    <tr>\n",
       "      <th>Joe Biden</th>\n",
       "      <td>1196</td>\n",
       "    </tr>\n",
       "    <tr>\n",
       "      <th>MSNBC</th>\n",
       "      <td>16736</td>\n",
       "    </tr>\n",
       "    <tr>\n",
       "      <th>Newsmax</th>\n",
       "      <td>5862</td>\n",
       "    </tr>\n",
       "    <tr>\n",
       "      <th>One America News Network</th>\n",
       "      <td>3364</td>\n",
       "    </tr>\n",
       "    <tr>\n",
       "      <th>The New York Times</th>\n",
       "      <td>11059</td>\n",
       "    </tr>\n",
       "    <tr>\n",
       "      <th>The Wall Street Journal</th>\n",
       "      <td>7907</td>\n",
       "    </tr>\n",
       "  </tbody>\n",
       "</table>\n",
       "</div>"
      ],
      "text/plain": [
       "                          User Name\n",
       "Page Name                          \n",
       "Breitbart                      9795\n",
       "Daily Kos                      2838\n",
       "Donald J. Trump                1877\n",
       "Fox News                       7922\n",
       "Joe Biden                      1196\n",
       "MSNBC                         16736\n",
       "Newsmax                        5862\n",
       "One America News Network       3364\n",
       "The New York Times            11059\n",
       "The Wall Street Journal        7907"
      ]
     },
     "execution_count": 76,
     "metadata": {},
     "output_type": "execute_result"
    }
   ],
   "source": [
    "fb_dat_naomit.groupby('Page Name').count()[['User Name']]"
   ]
  },
  {
   "cell_type": "code",
   "execution_count": 75,
   "id": "entitled-google",
   "metadata": {},
   "outputs": [
    {
     "data": {
      "text/html": [
       "<div>\n",
       "<style scoped>\n",
       "    .dataframe tbody tr th:only-of-type {\n",
       "        vertical-align: middle;\n",
       "    }\n",
       "\n",
       "    .dataframe tbody tr th {\n",
       "        vertical-align: top;\n",
       "    }\n",
       "\n",
       "    .dataframe thead th {\n",
       "        text-align: right;\n",
       "    }\n",
       "</style>\n",
       "<table border=\"1\" class=\"dataframe\">\n",
       "  <thead>\n",
       "    <tr style=\"text-align: right;\">\n",
       "      <th></th>\n",
       "      <th>num_emoji_in_post</th>\n",
       "      <th>emoji_present</th>\n",
       "    </tr>\n",
       "    <tr>\n",
       "      <th>Page Name</th>\n",
       "      <th></th>\n",
       "      <th></th>\n",
       "    </tr>\n",
       "  </thead>\n",
       "  <tbody>\n",
       "    <tr>\n",
       "      <th>Breitbart</th>\n",
       "      <td>74</td>\n",
       "      <td>23</td>\n",
       "    </tr>\n",
       "    <tr>\n",
       "      <th>Daily Kos</th>\n",
       "      <td>1006</td>\n",
       "      <td>588</td>\n",
       "    </tr>\n",
       "    <tr>\n",
       "      <th>Donald J. Trump</th>\n",
       "      <td>12</td>\n",
       "      <td>6</td>\n",
       "    </tr>\n",
       "    <tr>\n",
       "      <th>Fox News</th>\n",
       "      <td>0</td>\n",
       "      <td>0</td>\n",
       "    </tr>\n",
       "    <tr>\n",
       "      <th>Joe Biden</th>\n",
       "      <td>3</td>\n",
       "      <td>3</td>\n",
       "    </tr>\n",
       "    <tr>\n",
       "      <th>MSNBC</th>\n",
       "      <td>1</td>\n",
       "      <td>1</td>\n",
       "    </tr>\n",
       "    <tr>\n",
       "      <th>Newsmax</th>\n",
       "      <td>505</td>\n",
       "      <td>496</td>\n",
       "    </tr>\n",
       "    <tr>\n",
       "      <th>One America News Network</th>\n",
       "      <td>8</td>\n",
       "      <td>4</td>\n",
       "    </tr>\n",
       "    <tr>\n",
       "      <th>The New York Times</th>\n",
       "      <td>64</td>\n",
       "      <td>38</td>\n",
       "    </tr>\n",
       "    <tr>\n",
       "      <th>The Wall Street Journal</th>\n",
       "      <td>0</td>\n",
       "      <td>0</td>\n",
       "    </tr>\n",
       "  </tbody>\n",
       "</table>\n",
       "</div>"
      ],
      "text/plain": [
       "                          num_emoji_in_post  emoji_present\n",
       "Page Name                                                 \n",
       "Breitbart                                74             23\n",
       "Daily Kos                              1006            588\n",
       "Donald J. Trump                          12              6\n",
       "Fox News                                  0              0\n",
       "Joe Biden                                 3              3\n",
       "MSNBC                                     1              1\n",
       "Newsmax                                 505            496\n",
       "One America News Network                  8              4\n",
       "The New York Times                       64             38\n",
       "The Wall Street Journal                   0              0"
      ]
     },
     "execution_count": 75,
     "metadata": {},
     "output_type": "execute_result"
    }
   ],
   "source": [
    "fb_dat_naomit.groupby('Page Name').sum()[['num_emoji_in_post', 'emoji_present']]"
   ]
  },
  {
   "cell_type": "markdown",
   "id": "jewish-oxide",
   "metadata": {},
   "source": [
    "##### Proportion of posts that contain at least one emoji"
   ]
  },
  {
   "cell_type": "code",
   "execution_count": 84,
   "id": "super-milton",
   "metadata": {},
   "outputs": [
    {
     "data": {
      "text/plain": [
       "Page Name\n",
       "Breitbart                   0.002348\n",
       "Daily Kos                   0.207188\n",
       "Donald J. Trump             0.003197\n",
       "Fox News                    0.000000\n",
       "Joe Biden                   0.002508\n",
       "MSNBC                       0.000060\n",
       "Newsmax                     0.084613\n",
       "One America News Network    0.001189\n",
       "The New York Times          0.003436\n",
       "The Wall Street Journal     0.000000\n",
       "dtype: float64"
      ]
     },
     "execution_count": 84,
     "metadata": {},
     "output_type": "execute_result"
    }
   ],
   "source": [
    "fb_dat_naomit.groupby('Page Name').sum()[['emoji_present']]['emoji_present'] / fb_dat_naomit.groupby('Page Name').count()[['User Name']]['User Name']"
   ]
  },
  {
   "cell_type": "markdown",
   "id": "sufficient-bracelet",
   "metadata": {},
   "source": [
    "##### Average number of emojis used at a time (when any emoji present)"
   ]
  },
  {
   "cell_type": "code",
   "execution_count": 83,
   "id": "immune-liabilities",
   "metadata": {},
   "outputs": [
    {
     "data": {
      "text/plain": [
       "Page Name\n",
       "Breitbart                   3.217391\n",
       "Daily Kos                   1.710884\n",
       "Donald J. Trump             2.000000\n",
       "Fox News                         NaN\n",
       "Joe Biden                   1.000000\n",
       "MSNBC                       1.000000\n",
       "Newsmax                     1.018145\n",
       "One America News Network    2.000000\n",
       "The New York Times          1.684211\n",
       "The Wall Street Journal          NaN\n",
       "dtype: float64"
      ]
     },
     "execution_count": 83,
     "metadata": {},
     "output_type": "execute_result"
    }
   ],
   "source": [
    "fb_dat_naomit.groupby('Page Name').sum()[['num_emoji_in_post']]['num_emoji_in_post'] / fb_dat_naomit.groupby('Page Name').sum()[['emoji_present']]['emoji_present']"
   ]
  }
 ],
 "metadata": {
  "kernelspec": {
   "display_name": "Python 3",
   "language": "python",
   "name": "python3"
  },
  "language_info": {
   "codemirror_mode": {
    "name": "ipython",
    "version": 3
   },
   "file_extension": ".py",
   "mimetype": "text/x-python",
   "name": "python",
   "nbconvert_exporter": "python",
   "pygments_lexer": "ipython3",
   "version": "3.9.2"
  }
 },
 "nbformat": 4,
 "nbformat_minor": 5
}
